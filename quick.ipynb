{
 "cells": [
  {
   "cell_type": "code",
   "execution_count": 2,
   "metadata": {},
   "outputs": [
    {
     "name": "stdout",
     "output_type": "stream",
     "text": [
      "Most compatible result: {'song': 'Song B', 'artist': 'Artist B', 'album': 'Album Y'}\n"
     ]
    }
   ],
   "source": [
    "import difflib\n",
    "\n",
    "def calculate_similarity(a, b):\n",
    "    return difflib.SequenceMatcher(None, a, b).ratio()\n",
    "\n",
    "def calculate_score(song_result, artist_result, album_result, query_song, query_artist, query_album):\n",
    "    song_similarity = calculate_similarity(song_result, query_song)\n",
    "    artist_similarity = calculate_similarity(artist_result, query_artist)\n",
    "    album_similarity = calculate_similarity(album_result, query_album)\n",
    "    \n",
    "    # Ponderar e calcular a pontuação geral\n",
    "    score = (0.4 * song_similarity) + (0.3 * artist_similarity) + (0.3 * album_similarity)\n",
    "    return score\n",
    "\n",
    "def find_most_compatible_result(results, query_song, query_artist, query_album):\n",
    "    max_score = -1\n",
    "    most_compatible_result = None\n",
    "    \n",
    "    for result in results:\n",
    "        song_result = result['song']\n",
    "        artist_result = result['artist']\n",
    "        album_result = result['album']\n",
    "        \n",
    "        score = calculate_score(song_result, artist_result, album_result, query_song, query_artist, query_album)\n",
    "        \n",
    "        if score > max_score:\n",
    "            max_score = score\n",
    "            most_compatible_result = result\n",
    "    \n",
    "    return most_compatible_result\n",
    "\n",
    "# Exemplo de resultados da pesquisa no YouTube Music\n",
    "search_results = [\n",
    "    {'song': 'Song A', 'artist': 'Artist A', 'album': 'Album X'},\n",
    "    {'song': 'Song B', 'artist': 'Artist B', 'album': 'Album Y'},\n",
    "    {'song': 'Song C', 'artist': 'Artist C', 'album': 'Album Z'}\n",
    "]\n",
    "\n",
    "# Dados da busca do Spotify\n",
    "query_song = 'Song B'\n",
    "query_artist = 'Artist B'\n",
    "query_album = 'Album Y'\n",
    "\n",
    "most_compatible_result = find_most_compatible_result(search_results, query_song, query_artist, query_album)\n",
    "print(\"Most compatible result:\", most_compatible_result)"
   ]
  },
  {
   "cell_type": "code",
   "execution_count": 1,
   "metadata": {},
   "outputs": [
    {
     "name": "stdout",
     "output_type": "stream",
     "text": [
      "{'orange': 3, 'apple': 5, 'grape': 8, 'banana': 10}\n"
     ]
    }
   ],
   "source": [
    "my_dict = {\n",
    "    'apple': 5,\n",
    "    'banana': 10,\n",
    "    'orange': 3,\n",
    "    'grape': 8\n",
    "}\n",
    "\n",
    "sorted_dict_by_values = dict(sorted(my_dict.items(), key=lambda item: item[1]))\n",
    "\n",
    "print(sorted_dict_by_values)"
   ]
  },
  {
   "cell_type": "code",
   "execution_count": 9,
   "metadata": {},
   "outputs": [
    {
     "name": "stdout",
     "output_type": "stream",
     "text": [
      "[{'category': 'Songs', 'resultType': 'song', 'title': 'Wonderwall', 'album': {'name': \"(What's The Story) Morning Glory?\", 'id': 'MPREb_PITqkpE6ExP'}, 'feedbackTokens': {'add': 'AB9zfpJy-3BSjaJXxqply7Tk8sbHeZptRcixZsClIWqe_liaJyp5-JwloB1PcbBrjn6YoLD4k5hDPS0MRZrqAzkLsFM8TmSCAw', 'remove': 'AB9zfpJZR9GnrJEFbemGuiEaZAViOS81jCOtj6Ifjio7P6vxK4WRj7Qs0oHXX7gG3M8dKDmjL3vAWYPfFgG6m-sZRBksLqSlTQ'}, 'videoId': 'hpSrLjc5SMs', 'videoType': 'MUSIC_VIDEO_TYPE_ATV', 'duration': '4:19', 'year': None, 'artists': [{'name': 'Oasis', 'id': 'UCmMUZbaYdNH0bEd1PAlAqsA'}], 'duration_seconds': 259, 'isExplicit': False, 'thumbnails': [{'url': 'https://lh3.googleusercontent.com/xM8bzhN_pbFY8HyyglVe9XMaDRH5SGqkCnZvMEQ0B4653LkXqGT19k-Uqzv6OiB0LMVoKsRhuHOAh0E=w60-h60-l90-rj', 'width': 60, 'height': 60}, {'url': 'https://lh3.googleusercontent.com/xM8bzhN_pbFY8HyyglVe9XMaDRH5SGqkCnZvMEQ0B4653LkXqGT19k-Uqzv6OiB0LMVoKsRhuHOAh0E=w120-h120-l90-rj', 'width': 120, 'height': 120}]}, {'category': 'Songs', 'resultType': 'song', 'title': 'Wonderwall', 'album': {'name': \"(What's The Story) Morning Glory? (Deluxe Remastered Edition)\", 'id': 'MPREb_SmEdOAdN7en'}, 'feedbackTokens': {'add': 'AB9zfpJH1NjL52LVrNra3kHCBFYQtAjg7vwbrkYqamdiiW3rbt0nE9VUhjuNn1tfhvIzsZuPQq92VhzYP9karGBVeSXAnZoOIw', 'remove': 'AB9zfpJe_K49-VkjSQdZ-7jrFRFIJJ_tuqePHe3Kd78qKyPEatTZxmPu6pZzcnwGMe61Cabz_D3Pxfd0xG3UpBi7BoygnGeM0w'}, 'videoId': 'FVdjZYfDuLE', 'videoType': 'MUSIC_VIDEO_TYPE_ATV', 'duration': '4:19', 'year': None, 'artists': [{'name': 'Oasis', 'id': 'UCmMUZbaYdNH0bEd1PAlAqsA'}], 'duration_seconds': 259, 'isExplicit': False, 'thumbnails': [{'url': 'https://lh3.googleusercontent.com/8a494s8XkzTkqCK8GvrrpdrRyVP3mHgDXAKXZWzW6Kty_eDgHT_t2RxR6Nhn2h436WUaRcAzlGRroL4=w60-h60-l90-rj', 'width': 60, 'height': 60}, {'url': 'https://lh3.googleusercontent.com/8a494s8XkzTkqCK8GvrrpdrRyVP3mHgDXAKXZWzW6Kty_eDgHT_t2RxR6Nhn2h436WUaRcAzlGRroL4=w120-h120-l90-rj', 'width': 120, 'height': 120}]}, {'category': 'Songs', 'resultType': 'song', 'title': 'Wonderwall', 'album': {'name': \"Rock: The Train Kept A Rollin'\", 'id': 'MPREb_Grx2swUUi7V'}, 'feedbackTokens': {'add': 'AB9zfpKy6WbGaYoeyvxWBPIhUWTk6CCmV4q0P_83U17ZnGv6dsBJhTOrW0oSGF6ZdMCEy4rjGCT6G1yZCteM84CsuVrANWutcQ', 'remove': 'AB9zfpIHnngr6A2BvF43qVynymLa6-_MqJLy0Kl9IV4sEc8VVje7dc3npio50IS1ERdG4WmIMXgN1sxpEbQXSqdUcLGSIcvJWQ'}, 'videoId': 'y5EfpGi1LXY', 'videoType': 'MUSIC_VIDEO_TYPE_ATV', 'duration': '4:19', 'year': None, 'artists': [{'name': 'Oasis', 'id': 'UCmMUZbaYdNH0bEd1PAlAqsA'}], 'duration_seconds': 259, 'isExplicit': False, 'thumbnails': [{'url': 'https://lh3.googleusercontent.com/hgs3oZRKxeRv8nrTBB2PMOy3u7v3TxbZ8VXnsGiVpbVTrRamC7z3ZawUdbIA0SSbR4C7PUhkpLdeIng=w60-h60-l90-rj', 'width': 60, 'height': 60}, {'url': 'https://lh3.googleusercontent.com/hgs3oZRKxeRv8nrTBB2PMOy3u7v3TxbZ8VXnsGiVpbVTrRamC7z3ZawUdbIA0SSbR4C7PUhkpLdeIng=w120-h120-l90-rj', 'width': 120, 'height': 120}]}, {'category': 'Albums', 'resultType': 'album', 'title': \"(What's The Story) Morning Glory? (Remastered)\", 'type': 'Album', 'duration': None, 'year': '1995', 'artists': [{'name': 'Oasis', 'id': 'UCmMUZbaYdNH0bEd1PAlAqsA'}], 'browseId': 'MPREb_9nqEki4ZDpp', 'isExplicit': False, 'thumbnails': [{'url': 'https://lh3.googleusercontent.com/FoVQFdW6zBi3sNA_yZJSV3VTWmi0belhhFzleuEbn27utkirstj1woXHfWmWqkNyHla37ZFbk_F6jvVV=w60-h60-l90-rj', 'width': 60, 'height': 60}, {'url': 'https://lh3.googleusercontent.com/FoVQFdW6zBi3sNA_yZJSV3VTWmi0belhhFzleuEbn27utkirstj1woXHfWmWqkNyHla37ZFbk_F6jvVV=w120-h120-l90-rj', 'width': 120, 'height': 120}, {'url': 'https://lh3.googleusercontent.com/FoVQFdW6zBi3sNA_yZJSV3VTWmi0belhhFzleuEbn27utkirstj1woXHfWmWqkNyHla37ZFbk_F6jvVV=w226-h226-l90-rj', 'width': 226, 'height': 226}, {'url': 'https://lh3.googleusercontent.com/FoVQFdW6zBi3sNA_yZJSV3VTWmi0belhhFzleuEbn27utkirstj1woXHfWmWqkNyHla37ZFbk_F6jvVV=w544-h544-l90-rj', 'width': 544, 'height': 544}]}, {'category': 'Albums', 'resultType': 'album', 'title': \"Wonderwall (Live at Knebworth, 10 August '96)\", 'type': 'Single', 'duration': None, 'year': '2021', 'artists': [{'name': 'Oasis', 'id': 'UCmMUZbaYdNH0bEd1PAlAqsA'}], 'browseId': 'MPREb_fSebzTzDix8', 'isExplicit': False, 'thumbnails': [{'url': 'https://lh3.googleusercontent.com/PhlZTvkZT9s5hfHOiLyu6vrBDgVsxR0_473jM1b03c41Xf41KySNCzwENR5-Q0BdOyutv6LiXJQ2A5Tc=w60-h60-l90-rj', 'width': 60, 'height': 60}, {'url': 'https://lh3.googleusercontent.com/PhlZTvkZT9s5hfHOiLyu6vrBDgVsxR0_473jM1b03c41Xf41KySNCzwENR5-Q0BdOyutv6LiXJQ2A5Tc=w120-h120-l90-rj', 'width': 120, 'height': 120}, {'url': 'https://lh3.googleusercontent.com/PhlZTvkZT9s5hfHOiLyu6vrBDgVsxR0_473jM1b03c41Xf41KySNCzwENR5-Q0BdOyutv6LiXJQ2A5Tc=w226-h226-l90-rj', 'width': 226, 'height': 226}, {'url': 'https://lh3.googleusercontent.com/PhlZTvkZT9s5hfHOiLyu6vrBDgVsxR0_473jM1b03c41Xf41KySNCzwENR5-Q0BdOyutv6LiXJQ2A5Tc=w544-h544-l90-rj', 'width': 544, 'height': 544}]}, {'category': 'Albums', 'resultType': 'album', 'title': 'Wonderwall', 'type': 'Single', 'duration': None, 'year': '2021', 'artists': [{'name': 'First to Eleven', 'id': 'UCUfDKi-sxcTS2bHuS6V2kQQ'}], 'browseId': 'MPREb_1oHSW3JIwJK', 'isExplicit': False, 'thumbnails': [{'url': 'https://lh3.googleusercontent.com/pB_Hk-k5EZncLvKXGI3KceWrgCwIvUitKQCifHXpma3IQGs6XYZRB2akQp77FBI0EzFpX08Mge8fafs=w60-h60-l90-rj', 'width': 60, 'height': 60}, {'url': 'https://lh3.googleusercontent.com/pB_Hk-k5EZncLvKXGI3KceWrgCwIvUitKQCifHXpma3IQGs6XYZRB2akQp77FBI0EzFpX08Mge8fafs=w120-h120-l90-rj', 'width': 120, 'height': 120}, {'url': 'https://lh3.googleusercontent.com/pB_Hk-k5EZncLvKXGI3KceWrgCwIvUitKQCifHXpma3IQGs6XYZRB2akQp77FBI0EzFpX08Mge8fafs=w226-h226-l90-rj', 'width': 226, 'height': 226}, {'url': 'https://lh3.googleusercontent.com/pB_Hk-k5EZncLvKXGI3KceWrgCwIvUitKQCifHXpma3IQGs6XYZRB2akQp77FBI0EzFpX08Mge8fafs=w544-h544-l90-rj', 'width': 544, 'height': 544}]}, {'category': 'Artists', 'resultType': 'artist', 'artist': 'Oasis', 'shuffleId': 'RDAOkjHYJjL1a3xspEyVkhHAsg', 'radioId': 'RDEMkjHYJjL1a3xspEyVkhHAsg', 'browseId': 'UCmMUZbaYdNH0bEd1PAlAqsA', 'thumbnails': [{'url': 'https://lh3.googleusercontent.com/FmjOEUfSlCYS5m-Q6IrKH6eZCl8GBceMpmNW7LKx7G-cmUqCqz27_gAgQ3QhbuPOGePRuvOpiA=w60-h60-p-l90-rj', 'width': 60, 'height': 60}, {'url': 'https://lh3.googleusercontent.com/FmjOEUfSlCYS5m-Q6IrKH6eZCl8GBceMpmNW7LKx7G-cmUqCqz27_gAgQ3QhbuPOGePRuvOpiA=w120-h120-p-l90-rj', 'width': 120, 'height': 120}]}, {'category': 'Artists', 'resultType': 'artist', 'artist': 'Liam Gallagher', 'shuffleId': 'RDAO0CMixDSoybJwPk38pwY3HQ', 'radioId': 'RDEM0CMixDSoybJwPk38pwY3HQ', 'browseId': 'UCwK2Grm574W1u-sBzLikldQ', 'thumbnails': [{'url': 'https://lh3.googleusercontent.com/IshUlcWJKfmmFtkhARR1dbTeZP581HrtcjOyuapE7k9NKdnVlDPYHotwWmIc6qbSNG7_pP55HYxIWKA=w60-h60-p-l90-rj', 'width': 60, 'height': 60}, {'url': 'https://lh3.googleusercontent.com/IshUlcWJKfmmFtkhARR1dbTeZP581HrtcjOyuapE7k9NKdnVlDPYHotwWmIc6qbSNG7_pP55HYxIWKA=w120-h120-p-l90-rj', 'width': 120, 'height': 120}]}, {'category': 'Artists', 'resultType': 'artist', 'artist': 'Noel Gallagher', 'shuffleId': 'RDAOeqYJbdnWQfgdameFAi45Fg', 'radioId': 'RDEMeqYJbdnWQfgdameFAi45Fg', 'browseId': 'UCu7yYcX_wIZgG9azR3PqrxA', 'thumbnails': [{'url': 'https://lh3.googleusercontent.com/XZ85QTnzqdlLlxoKP5eKFMSxAUdZHeO1fKO-BlDP4fJr1J2Q-q58HUQvAvI2CBSZUNGFtXt0y7T02SE=w60-h60-p-l90-rj', 'width': 60, 'height': 60}, {'url': 'https://lh3.googleusercontent.com/XZ85QTnzqdlLlxoKP5eKFMSxAUdZHeO1fKO-BlDP4fJr1J2Q-q58HUQvAvI2CBSZUNGFtXt0y7T02SE=w120-h120-p-l90-rj', 'width': 120, 'height': 120}]}, {'category': 'Videos', 'resultType': 'video', 'title': 'Wonderwall', 'views': '501M', 'videoType': 'MUSIC_VIDEO_TYPE_OMV', 'videoId': '6hzrDeceEKc', 'duration': '4:40', 'year': None, 'artists': [{'name': 'Oasis', 'id': 'UCmMUZbaYdNH0bEd1PAlAqsA'}], 'duration_seconds': 280, 'thumbnails': [{'url': 'https://i.ytimg.com/vi/6hzrDeceEKc/hqdefault.jpg?sqp=-oaymwEWCMACELQBIAQqCghQEJADGFogjgJIWg&rs=AMzJL3l2r-lq5iWRcCP9eDIhyxmprc_Q3Q', 'width': 320, 'height': 180}]}, {'category': 'Videos', 'resultType': 'video', 'title': 'Oasis - Wonderwall (Live In Brazil 2009)', 'views': '10K', 'videoType': 'MUSIC_VIDEO_TYPE_UGC', 'videoId': 'FKTrGNNrGfc', 'duration': '4:23', 'year': None, 'artists': [{'name': 'RammsferSupernova', 'id': 'UC1A9lJaqGfRMfJFMH7i9irg'}], 'duration_seconds': 263, 'thumbnails': [{'url': 'https://i.ytimg.com/vi/FKTrGNNrGfc/sddefault.jpg?sqp=-oaymwEWCJADEOEBIAQqCghqEJQEGHgg6AJIWg&rs=AMzJL3kA3zlV1gcvQQkCG5Fyt1iB_xh-kQ', 'width': 400, 'height': 225}]}, {'category': 'Videos', 'resultType': 'video', 'title': 'Oasis - Wonderwall (Lyrics) | Lirik Terjemahan', 'views': '128K', 'videoType': 'MUSIC_VIDEO_TYPE_UGC', 'videoId': 'BJhV2MOvu60', 'duration': '3:22', 'year': None, 'artists': [{'name': 'Hizkia Hiko', 'id': 'UCTEM-eEVABTAnh9qN354JyQ'}], 'duration_seconds': 202, 'thumbnails': [{'url': 'https://i.ytimg.com/vi/BJhV2MOvu60/sddefault.jpg?sqp=-oaymwEWCJADEOEBIAQqCghqEJQEGHgg6AJIWg&rs=AMzJL3mYZj25eYzCa0-21hVQhtSbf-Xp_Q', 'width': 400, 'height': 225}]}, {'category': 'Community playlists', 'resultType': 'playlist', 'title': 'Oasis-Wonderwall', 'itemCount': '184', 'author': 'Josee Cholette', 'browseId': 'VLPLSIZ1Q2eH9i7HCZUFnIxOpOoNWq4b5GMr', 'thumbnails': [{'url': 'https://yt3.ggpht.com/Ek2pIPZKO68uwy1OeKrJqLvHhmU4D2Zr-URfOH8F-fYro91xQswdLJVBewn9Glh30GW5Ayvvzg=s192', 'width': 192, 'height': 192}, {'url': 'https://yt3.ggpht.com/Ek2pIPZKO68uwy1OeKrJqLvHhmU4D2Zr-URfOH8F-fYro91xQswdLJVBewn9Glh30GW5Ayvvzg=s576', 'width': 576, 'height': 576}, {'url': 'https://yt3.ggpht.com/Ek2pIPZKO68uwy1OeKrJqLvHhmU4D2Zr-URfOH8F-fYro91xQswdLJVBewn9Glh30GW5Ayvvzg=s1200', 'width': 1200, 'height': 1200}]}, {'category': 'Community playlists', 'resultType': 'playlist', 'title': 'Wonderwall - Remastered – Oasis', 'itemCount': '191', 'author': 'Andrea Izzi', 'browseId': 'VLPL2z1uXKqz8ODkUwe1SAzIZ70YC_xjuKCm', 'thumbnails': [{'url': 'https://i.ytimg.com/vi/tz0yQEEuwX4/sddefault.jpg?sqp=-oaymwEWCJADEOEBIAQqCghqEJQEGHgg6AJIWg&rs=AMzJL3n8rRVpgC-y7ZyE_gHHKxp3VAThjA', 'width': 400, 'height': 225}, {'url': 'https://i.ytimg.com/vi/tz0yQEEuwX4/sddefault.jpg?sqp=-oaymwEWCKoDEPABIAQqCghqEJQEGHgg6AJIWg&rs=AMzJL3kU_0miinjN7uuDIg31JJZwNJ-W0g', 'width': 426, 'height': 240}]}, {'category': 'Community playlists', 'resultType': 'playlist', 'title': 'Wonderwall – Oasis', 'itemCount': '184', 'author': 'Vanessa Cruz', 'browseId': 'VLPLQk0VuyPBNOpQHfDeeASODIXcsxY8Qiu8', 'thumbnails': [{'url': 'https://yt3.ggpht.com/F5lPSogibly1mjvAbFScYV6GG098qReyR0IV3FJXSVcfp2BTfWav5zOzvCoG7scQ3RKiaD8C=s192', 'width': 192, 'height': 192}, {'url': 'https://yt3.ggpht.com/F5lPSogibly1mjvAbFScYV6GG098qReyR0IV3FJXSVcfp2BTfWav5zOzvCoG7scQ3RKiaD8C=s576', 'width': 576, 'height': 576}, {'url': 'https://yt3.ggpht.com/F5lPSogibly1mjvAbFScYV6GG098qReyR0IV3FJXSVcfp2BTfWav5zOzvCoG7scQ3RKiaD8C=s1200', 'width': 1200, 'height': 1200}]}, {'category': 'Podcasts', 'resultType': 'album', 'title': 'Best & Hits | Pop Anos 90 | Dido | The Calling | Vanessa Carlton | Oasis | Michal Jackson | The Verve', 'type': 'Podcast', 'duration': None, 'year': None, 'artists': [{'name': 'Best & Hits Music', 'id': 'UCAUSXkz4nNCf-PNsXHTfmMQ'}], 'browseId': 'MPSPPLnn2U96wKcAbV4nAxZeTJ_FdUTGFaCNbJ', 'isExplicit': False, 'thumbnails': [{'url': 'https://i.ytimg.com/pl_c/PLnn2U96wKcAbV4nAxZeTJ_FdUTGFaCNbJ/studio_square_thumbnail.jpg?sqp=CI72s6cG-oaymwEICDwQPCAASFo&rs=AMzJL3kzC2Ff3MbwAZWHK11jXD7_xmRIkg', 'width': 60, 'height': 60}, {'url': 'https://i.ytimg.com/pl_c/PLnn2U96wKcAbV4nAxZeTJ_FdUTGFaCNbJ/studio_square_thumbnail.jpg?sqp=CI72s6cG-oaymwEICHgQeCAASFo&rs=AMzJL3nOjF2y_0raNUAP5HsGGeMI_m9wJw', 'width': 120, 'height': 120}, {'url': 'https://i.ytimg.com/pl_c/PLnn2U96wKcAbV4nAxZeTJ_FdUTGFaCNbJ/studio_square_thumbnail.jpg?sqp=CI72s6cG-oaymwEKCOIBEOIBIABIWg&rs=AMzJL3kIGvhwjHjPLRvNB65k0vAVotGxqA', 'width': 226, 'height': 226}, {'url': 'https://i.ytimg.com/pl_c/PLnn2U96wKcAbV4nAxZeTJ_FdUTGFaCNbJ/studio_square_thumbnail.jpg?sqp=CI72s6cG-oaymwEKCKAEEKAEIABIWg&rs=AMzJL3m_dizCcO5DKXvkZ-S4tLrwX87ybA', 'width': 544, 'height': 544}]}, {'category': 'Podcasts', 'resultType': 'album', 'title': 'Drumless', 'type': 'Podcast', 'duration': None, 'year': None, 'artists': [{'name': 'txurrumendi', 'id': 'UCkjzK4FJu4xBFmu6FggbKhA'}], 'browseId': 'MPSPPLcav8oyIy_3YgnISmdITMrsT3KpuhgxV1', 'isExplicit': False, 'thumbnails': [{'url': 'https://i.ytimg.com/pl_c/PLcav8oyIy_3YgnISmdITMrsT3KpuhgxV1/studio_square_thumbnail.jpg?sqp=CI72s6cG-oaymwEICDwQPCAASFo&rs=AMzJL3nxcVbIxLIX3si4grKke8jzWUhdjw', 'width': 60, 'height': 60}, {'url': 'https://i.ytimg.com/pl_c/PLcav8oyIy_3YgnISmdITMrsT3KpuhgxV1/studio_square_thumbnail.jpg?sqp=CI72s6cG-oaymwEICHgQeCAASFo&rs=AMzJL3nHOMZu1dk0N0UunJdKqtykis6pvw', 'width': 120, 'height': 120}, {'url': 'https://i.ytimg.com/pl_c/PLcav8oyIy_3YgnISmdITMrsT3KpuhgxV1/studio_square_thumbnail.jpg?sqp=CI72s6cG-oaymwEKCOIBEOIBIABIWg&rs=AMzJL3m_Yg9KV4SLn0z8hp7qialAQSFESQ', 'width': 226, 'height': 226}, {'url': 'https://i.ytimg.com/pl_c/PLcav8oyIy_3YgnISmdITMrsT3KpuhgxV1/studio_square_thumbnail.jpg?sqp=CI72s6cG-oaymwEKCKAEEKAEIABIWg&rs=AMzJL3nG9cDP4EwKsWSnFXo1CZS7XqIsqg', 'width': 544, 'height': 544}]}, {'category': 'Podcasts', 'resultType': 'album', 'title': 'DRUMS', 'type': 'Podcast', 'duration': None, 'year': None, 'artists': [{'name': 'txurrumendi', 'id': 'UCkjzK4FJu4xBFmu6FggbKhA'}], 'browseId': 'MPSPPLcav8oyIy_3Z0rdaECGr7-KfEd1b-dAXB', 'isExplicit': False, 'thumbnails': [{'url': 'https://i.ytimg.com/pl_c/PLcav8oyIy_3Z0rdaECGr7-KfEd1b-dAXB/studio_square_thumbnail.jpg?sqp=CI72s6cG-oaymwEICDwQPCAASFo&rs=AMzJL3nixbqDn2OkDs-BG61HUfa6Nt-ATg', 'width': 60, 'height': 60}, {'url': 'https://i.ytimg.com/pl_c/PLcav8oyIy_3Z0rdaECGr7-KfEd1b-dAXB/studio_square_thumbnail.jpg?sqp=CI72s6cG-oaymwEICHgQeCAASFo&rs=AMzJL3kssnbp55oClSpZmzHrAnUieGvLKg', 'width': 120, 'height': 120}, {'url': 'https://i.ytimg.com/pl_c/PLcav8oyIy_3Z0rdaECGr7-KfEd1b-dAXB/studio_square_thumbnail.jpg?sqp=CI72s6cG-oaymwEKCOIBEOIBIABIWg&rs=AMzJL3mfi4LAWuuv9wkANKpOgRscr9wlNw', 'width': 226, 'height': 226}, {'url': 'https://i.ytimg.com/pl_c/PLcav8oyIy_3Z0rdaECGr7-KfEd1b-dAXB/studio_square_thumbnail.jpg?sqp=CI72s6cG-oaymwEKCKAEEKAEIABIWg&rs=AMzJL3nVYc2EySPkNTUiEN2pogjHQnF5Ew', 'width': 544, 'height': 544}]}, {'category': 'Profiles', 'resultType': 'album', 'title': 'wonderwall-in-my-eyes ♥', 'type': 'Profile', 'duration': None, 'year': None, 'artists': [{'name': '@EnjoyTheMode95', 'id': None}], 'browseId': 'UCKBCaxPUUaKA9EtmNCTXByg', 'isExplicit': False, 'thumbnails': [{'url': 'https://yt3.googleusercontent.com/ytc/AOPolaQLvD1DhNv1T8WaGV5rtBUyajMSYIuFUE-XgFY7wQ=w60-c-h60-k-c0x00ffffff-no-l90-rj', 'width': 60, 'height': 60}, {'url': 'https://yt3.googleusercontent.com/ytc/AOPolaQLvD1DhNv1T8WaGV5rtBUyajMSYIuFUE-XgFY7wQ=w120-c-h120-k-c0x00ffffff-no-l90-rj', 'width': 120, 'height': 120}]}, {'category': 'Profiles', 'resultType': 'album', 'title': 'Rio', 'type': 'Profile', 'duration': None, 'year': None, 'artists': [{'name': '@Rio-hk1ib', 'id': None}], 'browseId': 'UCvC6MdjmeKAbyt8lfTM7yXw', 'isExplicit': False, 'thumbnails': [{'url': 'https://yt3.googleusercontent.com/ytc/AOPolaTjONps8CvAXVU42RfGPoQp00ouEJy0JtznEniPBQ=w60-c-h60-k-c0x00ffffff-no-l90-rj', 'width': 60, 'height': 60}, {'url': 'https://yt3.googleusercontent.com/ytc/AOPolaTjONps8CvAXVU42RfGPoQp00ouEJy0JtznEniPBQ=w120-c-h120-k-c0x00ffffff-no-l90-rj', 'width': 120, 'height': 120}]}, {'category': 'Profiles', 'resultType': 'album', 'title': 'Tyler P', 'type': 'Profile', 'duration': None, 'year': None, 'artists': [{'name': '@lightfootpk', 'id': None}], 'browseId': 'UCPF89YDQFjBcRM4vrdTRDjw', 'isExplicit': False, 'thumbnails': [{'url': 'https://yt3.googleusercontent.com/ytc/AOPolaQdm9pOkT0GekArE2jgZrsOAcnf8FgaTVjc0zbnTA=w60-c-h60-k-c0x00ffffff-no-l90-rj', 'width': 60, 'height': 60}, {'url': 'https://yt3.googleusercontent.com/ytc/AOPolaQdm9pOkT0GekArE2jgZrsOAcnf8FgaTVjc0zbnTA=w120-c-h120-k-c0x00ffffff-no-l90-rj', 'width': 120, 'height': 120}]}]\n"
     ]
    }
   ],
   "source": [
    "from ytmusicapi import YTMusic\n",
    "ytmusic = YTMusic(\"auth/browser.json\")\n",
    "\n",
    "playlistId = ytmusic.create_playlist(\"test\", \"test description\")\n",
    "search_results = ytmusic.search(\"Oasis Wonderwall\")\n",
    "# x = ytmusic.add_playlist_items('playlistId', [search_results[0]['videoId']])\n",
    "print(search_results)"
   ]
  },
  {
   "cell_type": "code",
   "execution_count": 1,
   "metadata": {},
   "outputs": [
    {
     "ename": "SyntaxError",
     "evalue": "unexpected EOF while parsing (593299014.py, line 70)",
     "output_type": "error",
     "traceback": [
      "\u001b[0;36m  Cell \u001b[0;32mIn[1], line 70\u001b[0;36m\u001b[0m\n\u001b[0;31m    1.20230821.01.01\")\"\"\"\u001b[0m\n\u001b[0m                         \n^\u001b[0m\n\u001b[0;31mSyntaxError\u001b[0m\u001b[0;31m:\u001b[0m unexpected EOF while parsing\n"
     ]
    }
   ],
   "source": []
  },
  {
   "cell_type": "code",
   "execution_count": null,
   "metadata": {},
   "outputs": [],
   "source": []
  }
 ],
 "metadata": {
  "kernelspec": {
   "display_name": "playlist-pass",
   "language": "python",
   "name": "python3"
  },
  "language_info": {
   "codemirror_mode": {
    "name": "ipython",
    "version": 3
   },
   "file_extension": ".py",
   "mimetype": "text/x-python",
   "name": "python",
   "nbconvert_exporter": "python",
   "pygments_lexer": "ipython3",
   "version": "3.8.10"
  },
  "orig_nbformat": 4
 },
 "nbformat": 4,
 "nbformat_minor": 2
}
